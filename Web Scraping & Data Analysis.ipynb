{
 "cells": [
  {
   "cell_type": "markdown",
   "id": "4294669e",
   "metadata": {},
   "source": [
    "# Project 2, Part 2 - Web Scraping and Data Analysis\n",
    "Emily Feuss"
   ]
  },
  {
   "cell_type": "markdown",
   "id": "5be81b56",
   "metadata": {},
   "source": [
    "Scraping a list of all Wordle words that have been played so far and running some statistics on letters used. Want to look at how each letter is used and in what positions. Also want to consider analyzing use of \"double\" letters - as in same letter used twice, not necessarily in succession. This all should be set up to run every day if you want to continue to run it and add in the new words"
   ]
  },
  {
   "cell_type": "markdown",
   "id": "86d9be70",
   "metadata": {},
   "source": [
    "### Chapters:\n",
    "- Web Scraping\n",
    "- Exploratory Data Analysis\n",
    "- Data Analysis: **Single Letter Counts**\n",
    "- Data Analysis: **Y-Only Vowel Words**\n",
    "- Data Analysis: **Letter Usage Per Location in the Word**\n",
    "- Data Analysis: **Double & Triple Letter Usage**\n",
    "- Data Analysis: **Letter Pairs**\n",
    "\n",
    "---"
   ]
  },
  {
   "cell_type": "markdown",
   "id": "c2d9705b",
   "metadata": {},
   "source": [
    "## Web Scraping"
   ]
  },
  {
   "cell_type": "markdown",
   "id": "09f793b3",
   "metadata": {},
   "source": [
    "First website didn't work, felt like I was getting blocked and then looked as TOS and it says no web scraping, so perhaps there's a block up. Even though I didn't see any limitations in robots.txt\n",
    "\n",
    "**website with daily Wordle words:**<br>\n",
    "https://screenrant.com/wordle-answers-updated-word-puzzle-guide/ (cannot use)\n",
    "\n",
    "https://www.techradar.com/news/past-wordle-answers (ultimately used)\n"
   ]
  },
  {
   "cell_type": "code",
   "execution_count": 483,
   "id": "c6c447a4",
   "metadata": {},
   "outputs": [],
   "source": [
    "import requests\n",
    "from bs4 import BeautifulSoup as bs\n",
    "import pandas as pd\n",
    "import time\n",
    "import numpy as np\n",
    "from matplotlib import pyplot as plt\n",
    "import seaborn as sns"
   ]
  },
  {
   "cell_type": "code",
   "execution_count": 2,
   "id": "ed1a1c9b",
   "metadata": {},
   "outputs": [],
   "source": [
    "url='https://www.techradar.com/news/past-wordle-answers'\n",
    "response = requests.get(url)\n",
    "status = response.status_code\n",
    "if status == 200:\n",
    "    page = response.text\n",
    "    soup = bs(page)\n",
    "else:\n",
    "    print(f\"Oops! Received status code {status}\")"
   ]
  },
  {
   "cell_type": "code",
   "execution_count": 3,
   "id": "b82311b0",
   "metadata": {},
   "outputs": [],
   "source": [
    "#print(soup.prettify())\n",
    "#type(soup)"
   ]
  },
  {
   "cell_type": "code",
   "execution_count": 4,
   "id": "9178f765",
   "metadata": {},
   "outputs": [],
   "source": [
    "wordles = soup.find_all(class_='table__body__row')"
   ]
  },
  {
   "cell_type": "code",
   "execution_count": 7,
   "id": "0f8b031b",
   "metadata": {},
   "outputs": [],
   "source": [
    "wordle_list = []\n",
    "\n",
    "for day in wordles:\n",
    "    game = day.find(class_='table_body__data')\n",
    "    g = game.text\n",
    "    date = game.next_sibling\n",
    "    d = date.text\n",
    "    word = date.next_sibling\n",
    "    w = word.text\n",
    "    wordle_list.append({'Game':g,'Date':d, 'Word':w})\n",
    "\n",
    "#print(wordle_list)"
   ]
  },
  {
   "cell_type": "markdown",
   "id": "f50e1104",
   "metadata": {},
   "source": [
    "### This step had me caught up for a bit, because I struggled with how to get each element out of the daily row since they all had the same class descriptor! As soon as I realized how next_sibling worked though, that helped immensely to move through the list."
   ]
  },
  {
   "cell_type": "code",
   "execution_count": 15,
   "id": "ee09fa66",
   "metadata": {},
   "outputs": [],
   "source": [
    "wordle = pd.DataFrame(wordle_list)"
   ]
  },
  {
   "cell_type": "code",
   "execution_count": 16,
   "id": "e8f75e6d",
   "metadata": {
    "scrolled": true
   },
   "outputs": [
    {
     "data": {
      "text/html": [
       "<div>\n",
       "<style scoped>\n",
       "    .dataframe tbody tr th:only-of-type {\n",
       "        vertical-align: middle;\n",
       "    }\n",
       "\n",
       "    .dataframe tbody tr th {\n",
       "        vertical-align: top;\n",
       "    }\n",
       "\n",
       "    .dataframe thead th {\n",
       "        text-align: right;\n",
       "    }\n",
       "</style>\n",
       "<table border=\"1\" class=\"dataframe\">\n",
       "  <thead>\n",
       "    <tr style=\"text-align: right;\">\n",
       "      <th></th>\n",
       "      <th>Game</th>\n",
       "      <th>Date</th>\n",
       "      <th>Word</th>\n",
       "    </tr>\n",
       "  </thead>\n",
       "  <tbody>\n",
       "    <tr>\n",
       "      <th>0</th>\n",
       "      <td>1008</td>\n",
       "      <td>Saturday, 23 March 2024</td>\n",
       "      <td>RISEN</td>\n",
       "    </tr>\n",
       "    <tr>\n",
       "      <th>1</th>\n",
       "      <td>1007</td>\n",
       "      <td>Friday, 22 March 2024</td>\n",
       "      <td>DECAY</td>\n",
       "    </tr>\n",
       "    <tr>\n",
       "      <th>2</th>\n",
       "      <td>1006</td>\n",
       "      <td>Thursday, 21 March 2024</td>\n",
       "      <td>SHADE</td>\n",
       "    </tr>\n",
       "    <tr>\n",
       "      <th>3</th>\n",
       "      <td>1005</td>\n",
       "      <td>Wednesday, 20 March 2024</td>\n",
       "      <td>LINGO</td>\n",
       "    </tr>\n",
       "    <tr>\n",
       "      <th>4</th>\n",
       "      <td>1004</td>\n",
       "      <td>Tuesday, 19 March 2024</td>\n",
       "      <td>ABIDE</td>\n",
       "    </tr>\n",
       "    <tr>\n",
       "      <th>...</th>\n",
       "      <td>...</td>\n",
       "      <td>...</td>\n",
       "      <td>...</td>\n",
       "    </tr>\n",
       "    <tr>\n",
       "      <th>1008</th>\n",
       "      <td>0</td>\n",
       "      <td>Saturday, 19 June 2021</td>\n",
       "      <td>CIGAR</td>\n",
       "    </tr>\n",
       "    <tr>\n",
       "      <th>1009</th>\n",
       "      <td>325</td>\n",
       "      <td>Tuesday, 10 May 2022</td>\n",
       "      <td>GECKO</td>\n",
       "    </tr>\n",
       "    <tr>\n",
       "      <th>1010</th>\n",
       "      <td>324</td>\n",
       "      <td>Monday, 9 May 2022</td>\n",
       "      <td>SHINE</td>\n",
       "    </tr>\n",
       "    <tr>\n",
       "      <th>1011</th>\n",
       "      <td>284</td>\n",
       "      <td>Wednesday, 30 March 2022</td>\n",
       "      <td>STOVE</td>\n",
       "    </tr>\n",
       "    <tr>\n",
       "      <th>1012</th>\n",
       "      <td>241</td>\n",
       "      <td>Tuesday, 15 February 2022</td>\n",
       "      <td>AROMA</td>\n",
       "    </tr>\n",
       "  </tbody>\n",
       "</table>\n",
       "<p>1013 rows × 3 columns</p>\n",
       "</div>"
      ],
      "text/plain": [
       "      Game                       Date   Word\n",
       "0     1008    Saturday, 23 March 2024  RISEN\n",
       "1     1007      Friday, 22 March 2024  DECAY\n",
       "2     1006    Thursday, 21 March 2024  SHADE\n",
       "3     1005   Wednesday, 20 March 2024  LINGO\n",
       "4     1004     Tuesday, 19 March 2024  ABIDE\n",
       "...    ...                        ...    ...\n",
       "1008     0     Saturday, 19 June 2021  CIGAR\n",
       "1009   325       Tuesday, 10 May 2022  GECKO\n",
       "1010   324         Monday, 9 May 2022  SHINE\n",
       "1011   284   Wednesday, 30 March 2022  STOVE\n",
       "1012   241  Tuesday, 15 February 2022  AROMA\n",
       "\n",
       "[1013 rows x 3 columns]"
      ]
     },
     "execution_count": 16,
     "metadata": {},
     "output_type": "execute_result"
    }
   ],
   "source": [
    "wordle"
   ]
  },
  {
   "cell_type": "markdown",
   "id": "19832d8a",
   "metadata": {},
   "source": [
    "---\n",
    "## Exploratory Data Analysis"
   ]
  },
  {
   "cell_type": "markdown",
   "id": "77d34053",
   "metadata": {},
   "source": [
    "### There were a few days when Wordle transitioned from its original website to NYT that 2 different words were used. I think I will consider analyzing both words for those days, as they are all strictly speaking Wordle words.\n",
    "\n",
    "This poses a potentially interesting question. Should I do any analyzing on the original words vs. the NYT words used? Will need to figure out the dates of transition, and then try to figure out which of the double words was played on which website. Food for thought.\n"
   ]
  },
  {
   "cell_type": "code",
   "execution_count": 56,
   "id": "c405f58f",
   "metadata": {
    "scrolled": false
   },
   "outputs": [
    {
     "data": {
      "text/plain": [
       "0       False\n",
       "1       False\n",
       "2       False\n",
       "3       False\n",
       "4       False\n",
       "        ...  \n",
       "1008    False\n",
       "1009     True\n",
       "1010     True\n",
       "1011     True\n",
       "1012     True\n",
       "Length: 1013, dtype: bool"
      ]
     },
     "execution_count": 56,
     "metadata": {},
     "output_type": "execute_result"
    }
   ],
   "source": [
    "wordle.duplicated(subset=['Date'])"
   ]
  },
  {
   "cell_type": "code",
   "execution_count": 18,
   "id": "f56d4f40",
   "metadata": {},
   "outputs": [
    {
     "data": {
      "text/plain": [
       "4"
      ]
     },
     "execution_count": 18,
     "metadata": {},
     "output_type": "execute_result"
    }
   ],
   "source": [
    "dupes = wordle.duplicated(subset=['Date'])\n",
    "dupe_count = dupes.sum()\n",
    "dupe_count"
   ]
  },
  {
   "cell_type": "markdown",
   "id": "7e676104",
   "metadata": {},
   "source": [
    "Appears that there were only 4 days of duplicate answers. Rows 1008 - 1012 are duplicates. I'll have to search by that date to find the other word."
   ]
  },
  {
   "cell_type": "code",
   "execution_count": 20,
   "id": "925c5f21",
   "metadata": {
    "scrolled": false
   },
   "outputs": [
    {
     "data": {
      "text/html": [
       "<div>\n",
       "<style scoped>\n",
       "    .dataframe tbody tr th:only-of-type {\n",
       "        vertical-align: middle;\n",
       "    }\n",
       "\n",
       "    .dataframe tbody tr th {\n",
       "        vertical-align: top;\n",
       "    }\n",
       "\n",
       "    .dataframe thead th {\n",
       "        text-align: right;\n",
       "    }\n",
       "</style>\n",
       "<table border=\"1\" class=\"dataframe\">\n",
       "  <thead>\n",
       "    <tr style=\"text-align: right;\">\n",
       "      <th></th>\n",
       "      <th>Game</th>\n",
       "      <th>Date</th>\n",
       "      <th>Word</th>\n",
       "    </tr>\n",
       "  </thead>\n",
       "  <tbody>\n",
       "    <tr>\n",
       "      <th>1009</th>\n",
       "      <td>325</td>\n",
       "      <td>Tuesday, 10 May 2022</td>\n",
       "      <td>GECKO</td>\n",
       "    </tr>\n",
       "    <tr>\n",
       "      <th>1010</th>\n",
       "      <td>324</td>\n",
       "      <td>Monday, 9 May 2022</td>\n",
       "      <td>SHINE</td>\n",
       "    </tr>\n",
       "    <tr>\n",
       "      <th>1011</th>\n",
       "      <td>284</td>\n",
       "      <td>Wednesday, 30 March 2022</td>\n",
       "      <td>STOVE</td>\n",
       "    </tr>\n",
       "    <tr>\n",
       "      <th>1012</th>\n",
       "      <td>241</td>\n",
       "      <td>Tuesday, 15 February 2022</td>\n",
       "      <td>AROMA</td>\n",
       "    </tr>\n",
       "  </tbody>\n",
       "</table>\n",
       "</div>"
      ],
      "text/plain": [
       "     Game                       Date   Word\n",
       "1009  325       Tuesday, 10 May 2022  GECKO\n",
       "1010  324         Monday, 9 May 2022  SHINE\n",
       "1011  284   Wednesday, 30 March 2022  STOVE\n",
       "1012  241  Tuesday, 15 February 2022  AROMA"
      ]
     },
     "execution_count": 20,
     "metadata": {},
     "output_type": "execute_result"
    }
   ],
   "source": [
    "wordle.loc[1009:1012]"
   ]
  },
  {
   "cell_type": "markdown",
   "id": "fa4fdf6a",
   "metadata": {},
   "source": [
    "### OK, interesting. These dates do not line up to be just a transition period. According to the website, it was also due to the NYT changing/removing certain words and this causing misalignments."
   ]
  },
  {
   "cell_type": "code",
   "execution_count": 40,
   "id": "0dd2a5ce",
   "metadata": {
    "scrolled": true
   },
   "outputs": [
    {
     "data": {
      "text/html": [
       "<div>\n",
       "<style scoped>\n",
       "    .dataframe tbody tr th:only-of-type {\n",
       "        vertical-align: middle;\n",
       "    }\n",
       "\n",
       "    .dataframe tbody tr th {\n",
       "        vertical-align: top;\n",
       "    }\n",
       "\n",
       "    .dataframe thead th {\n",
       "        text-align: right;\n",
       "    }\n",
       "</style>\n",
       "<table border=\"1\" class=\"dataframe\">\n",
       "  <thead>\n",
       "    <tr style=\"text-align: right;\">\n",
       "      <th></th>\n",
       "      <th>Game</th>\n",
       "      <th>Date</th>\n",
       "      <th>Word</th>\n",
       "      <th>Dupe</th>\n",
       "    </tr>\n",
       "  </thead>\n",
       "  <tbody>\n",
       "    <tr>\n",
       "      <th>683</th>\n",
       "      <td>325</td>\n",
       "      <td>Tuesday, 10 May 2022</td>\n",
       "      <td>GECKO</td>\n",
       "      <td>False</td>\n",
       "    </tr>\n",
       "    <tr>\n",
       "      <th>1009</th>\n",
       "      <td>325</td>\n",
       "      <td>Tuesday, 10 May 2022</td>\n",
       "      <td>GECKO</td>\n",
       "      <td>True</td>\n",
       "    </tr>\n",
       "  </tbody>\n",
       "</table>\n",
       "</div>"
      ],
      "text/plain": [
       "     Game                  Date   Word   Dupe\n",
       "683   325  Tuesday, 10 May 2022  GECKO  False\n",
       "1009  325  Tuesday, 10 May 2022  GECKO   True"
      ]
     },
     "execution_count": 40,
     "metadata": {},
     "output_type": "execute_result"
    }
   ],
   "source": [
    "dupe1 = wordle.query('Date == \"Tuesday, 10 May 2022\"')\n",
    "dupe1"
   ]
  },
  {
   "cell_type": "markdown",
   "id": "0c6138c3",
   "metadata": {},
   "source": [
    "### Hmm, my scraping didn't get the second duplicate answer. Need to update the dataframe."
   ]
  },
  {
   "cell_type": "code",
   "execution_count": 140,
   "id": "8fb24a78",
   "metadata": {},
   "outputs": [],
   "source": [
    "wordle_list2 =[]\n",
    "\n",
    "for day in wordles:\n",
    "    game = day.find(class_='table_body__data')\n",
    "    g = game.text\n",
    "    date = game.next_sibling\n",
    "    d = date.text\n",
    "    word = date.next_sibling\n",
    "    w = word.text\n",
    "    duplicate = word.next_sibling\n",
    "    if duplicate == None:\n",
    "         pass\n",
    "    else:\n",
    "        w = duplicate.text\n",
    "    wordle_list2.append({'Game':g,'Date':d, 'Word':w})"
   ]
  },
  {
   "cell_type": "code",
   "execution_count": 141,
   "id": "18112fd5",
   "metadata": {
    "scrolled": true
   },
   "outputs": [
    {
     "data": {
      "text/html": [
       "<div>\n",
       "<style scoped>\n",
       "    .dataframe tbody tr th:only-of-type {\n",
       "        vertical-align: middle;\n",
       "    }\n",
       "\n",
       "    .dataframe tbody tr th {\n",
       "        vertical-align: top;\n",
       "    }\n",
       "\n",
       "    .dataframe thead th {\n",
       "        text-align: right;\n",
       "    }\n",
       "</style>\n",
       "<table border=\"1\" class=\"dataframe\">\n",
       "  <thead>\n",
       "    <tr style=\"text-align: right;\">\n",
       "      <th></th>\n",
       "      <th>Game</th>\n",
       "      <th>Date</th>\n",
       "      <th>Word</th>\n",
       "    </tr>\n",
       "  </thead>\n",
       "  <tbody>\n",
       "    <tr>\n",
       "      <th>0</th>\n",
       "      <td>1008</td>\n",
       "      <td>Saturday, 23 March 2024</td>\n",
       "      <td>RISEN</td>\n",
       "    </tr>\n",
       "    <tr>\n",
       "      <th>1</th>\n",
       "      <td>1007</td>\n",
       "      <td>Friday, 22 March 2024</td>\n",
       "      <td>DECAY</td>\n",
       "    </tr>\n",
       "    <tr>\n",
       "      <th>2</th>\n",
       "      <td>1006</td>\n",
       "      <td>Thursday, 21 March 2024</td>\n",
       "      <td>SHADE</td>\n",
       "    </tr>\n",
       "    <tr>\n",
       "      <th>3</th>\n",
       "      <td>1005</td>\n",
       "      <td>Wednesday, 20 March 2024</td>\n",
       "      <td>LINGO</td>\n",
       "    </tr>\n",
       "    <tr>\n",
       "      <th>4</th>\n",
       "      <td>1004</td>\n",
       "      <td>Tuesday, 19 March 2024</td>\n",
       "      <td>ABIDE</td>\n",
       "    </tr>\n",
       "    <tr>\n",
       "      <th>...</th>\n",
       "      <td>...</td>\n",
       "      <td>...</td>\n",
       "      <td>...</td>\n",
       "    </tr>\n",
       "    <tr>\n",
       "      <th>1008</th>\n",
       "      <td>0</td>\n",
       "      <td>Saturday, 19 June 2021</td>\n",
       "      <td>CIGAR</td>\n",
       "    </tr>\n",
       "    <tr>\n",
       "      <th>1009</th>\n",
       "      <td>325</td>\n",
       "      <td>Tuesday, 10 May 2022</td>\n",
       "      <td>BUTCH</td>\n",
       "    </tr>\n",
       "    <tr>\n",
       "      <th>1010</th>\n",
       "      <td>324</td>\n",
       "      <td>Monday, 9 May 2022</td>\n",
       "      <td>FETUS</td>\n",
       "    </tr>\n",
       "    <tr>\n",
       "      <th>1011</th>\n",
       "      <td>284</td>\n",
       "      <td>Wednesday, 30 March 2022</td>\n",
       "      <td>HARRY</td>\n",
       "    </tr>\n",
       "    <tr>\n",
       "      <th>1012</th>\n",
       "      <td>241</td>\n",
       "      <td>Tuesday, 15 February 2022</td>\n",
       "      <td>AGORA</td>\n",
       "    </tr>\n",
       "  </tbody>\n",
       "</table>\n",
       "<p>1013 rows × 3 columns</p>\n",
       "</div>"
      ],
      "text/plain": [
       "      Game                       Date   Word\n",
       "0     1008    Saturday, 23 March 2024  RISEN\n",
       "1     1007      Friday, 22 March 2024  DECAY\n",
       "2     1006    Thursday, 21 March 2024  SHADE\n",
       "3     1005   Wednesday, 20 March 2024  LINGO\n",
       "4     1004     Tuesday, 19 March 2024  ABIDE\n",
       "...    ...                        ...    ...\n",
       "1008     0     Saturday, 19 June 2021  CIGAR\n",
       "1009   325       Tuesday, 10 May 2022  BUTCH\n",
       "1010   324         Monday, 9 May 2022  FETUS\n",
       "1011   284   Wednesday, 30 March 2022  HARRY\n",
       "1012   241  Tuesday, 15 February 2022  AGORA\n",
       "\n",
       "[1013 rows x 3 columns]"
      ]
     },
     "execution_count": 141,
     "metadata": {},
     "output_type": "execute_result"
    }
   ],
   "source": [
    "wordle2 = pd.DataFrame(wordle_list2)\n",
    "wordle2"
   ]
  },
  {
   "cell_type": "code",
   "execution_count": 142,
   "id": "59c70bb9",
   "metadata": {
    "scrolled": false
   },
   "outputs": [
    {
     "data": {
      "text/html": [
       "<div>\n",
       "<style scoped>\n",
       "    .dataframe tbody tr th:only-of-type {\n",
       "        vertical-align: middle;\n",
       "    }\n",
       "\n",
       "    .dataframe tbody tr th {\n",
       "        vertical-align: top;\n",
       "    }\n",
       "\n",
       "    .dataframe thead th {\n",
       "        text-align: right;\n",
       "    }\n",
       "</style>\n",
       "<table border=\"1\" class=\"dataframe\">\n",
       "  <thead>\n",
       "    <tr style=\"text-align: right;\">\n",
       "      <th></th>\n",
       "      <th>Game</th>\n",
       "      <th>Date</th>\n",
       "      <th>Word</th>\n",
       "    </tr>\n",
       "  </thead>\n",
       "  <tbody>\n",
       "    <tr>\n",
       "      <th>683</th>\n",
       "      <td>325</td>\n",
       "      <td>Tuesday, 10 May 2022</td>\n",
       "      <td>GECKO</td>\n",
       "    </tr>\n",
       "    <tr>\n",
       "      <th>1009</th>\n",
       "      <td>325</td>\n",
       "      <td>Tuesday, 10 May 2022</td>\n",
       "      <td>BUTCH</td>\n",
       "    </tr>\n",
       "  </tbody>\n",
       "</table>\n",
       "</div>"
      ],
      "text/plain": [
       "     Game                  Date   Word\n",
       "683   325  Tuesday, 10 May 2022  GECKO\n",
       "1009  325  Tuesday, 10 May 2022  BUTCH"
      ]
     },
     "execution_count": 142,
     "metadata": {},
     "output_type": "execute_result"
    }
   ],
   "source": [
    "dupe2 = wordle2.query('Date == \"Tuesday, 10 May 2022\"')\n",
    "dupe2"
   ]
  },
  {
   "cell_type": "code",
   "execution_count": 161,
   "id": "84fa4cd1",
   "metadata": {},
   "outputs": [
    {
     "data": {
      "text/plain": [
       "1013"
      ]
     },
     "execution_count": 161,
     "metadata": {},
     "output_type": "execute_result"
    }
   ],
   "source": [
    "word_count = len(wordle2['Word'])\n",
    "word_count"
   ]
  },
  {
   "cell_type": "markdown",
   "id": "4b2b0883",
   "metadata": {},
   "source": [
    "### OK, added in the duplicates!\n",
    "---"
   ]
  },
  {
   "cell_type": "markdown",
   "id": "5d99b33a",
   "metadata": {},
   "source": [
    "## Data Analysis: Single Letter Counts"
   ]
  },
  {
   "cell_type": "markdown",
   "id": "a9c0a761",
   "metadata": {},
   "source": [
    "### First step, I want to make a dictionary & data frame of letter counts. I want to analyze how frequently each letter of the alphabet has been used in Wordle words."
   ]
  },
  {
   "cell_type": "code",
   "execution_count": 59,
   "id": "7f2ade33",
   "metadata": {},
   "outputs": [],
   "source": [
    "wordle_words = list(wordle2['Word'])"
   ]
  },
  {
   "cell_type": "code",
   "execution_count": 65,
   "id": "d97b0ccb",
   "metadata": {},
   "outputs": [],
   "source": [
    "wordle_letters = []\n",
    "\n",
    "for letter in wordle_words:\n",
    "    wordle_letters += letter"
   ]
  },
  {
   "cell_type": "code",
   "execution_count": 79,
   "id": "662fbe6d",
   "metadata": {
    "scrolled": true
   },
   "outputs": [
    {
     "name": "stdout",
     "output_type": "stream",
     "text": [
      "{'R': 403, 'I': 283, 'S': 266, 'E': 548, 'N': 247, 'D': 159, 'C': 216, 'A': 456, 'Y': 163, 'H': 190, 'L': 308, 'G': 145, 'O': 346, 'B': 120, 'P': 157, 'T': 345, 'X': 20, 'U': 192, 'V': 58, 'K': 97, 'F': 94, 'M': 132, 'W': 77, 'Q': 14, 'Z': 19, 'J': 10}\n"
     ]
    }
   ],
   "source": [
    "letter_count = {}\n",
    "    \n",
    "for letter in wordle_letters:\n",
    "    if letter in letter_count:\n",
    "        letter_count[letter] += 1\n",
    "    else:\n",
    "        letter_count[letter] = 1\n",
    "            \n",
    "print(letter_count)"
   ]
  },
  {
   "cell_type": "code",
   "execution_count": 73,
   "id": "7ab13d64",
   "metadata": {
    "scrolled": false
   },
   "outputs": [],
   "source": [
    "#sorted(letter_count.values())"
   ]
  },
  {
   "cell_type": "code",
   "execution_count": 101,
   "id": "096e7fd9",
   "metadata": {
    "scrolled": true
   },
   "outputs": [],
   "source": [
    "letters = pd.DataFrame.from_dict(letter_count, orient='index', columns=['Count'])\n",
    "letters.index.name = 'Letters'"
   ]
  },
  {
   "cell_type": "code",
   "execution_count": 90,
   "id": "4c7f2b99",
   "metadata": {},
   "outputs": [
    {
     "data": {
      "text/plain": [
       "5065"
      ]
     },
     "execution_count": 90,
     "metadata": {},
     "output_type": "execute_result"
    }
   ],
   "source": [
    "# full letter count\n",
    "# should be 1013 * 5, let's confirm (5065)\n",
    "letters['Count'].sum()"
   ]
  },
  {
   "cell_type": "code",
   "execution_count": 97,
   "id": "f8b0efbc",
   "metadata": {},
   "outputs": [],
   "source": [
    "total_letters = letters['Count'].sum()"
   ]
  },
  {
   "cell_type": "code",
   "execution_count": 507,
   "id": "cec1f583",
   "metadata": {
    "scrolled": true
   },
   "outputs": [],
   "source": [
    "#letters.sort_values(by= ['Count'])"
   ]
  },
  {
   "cell_type": "code",
   "execution_count": 501,
   "id": "b046a815",
   "metadata": {
    "scrolled": false
   },
   "outputs": [
    {
     "data": {
      "text/html": [
       "<div>\n",
       "<style scoped>\n",
       "    .dataframe tbody tr th:only-of-type {\n",
       "        vertical-align: middle;\n",
       "    }\n",
       "\n",
       "    .dataframe tbody tr th {\n",
       "        vertical-align: top;\n",
       "    }\n",
       "\n",
       "    .dataframe thead th {\n",
       "        text-align: right;\n",
       "    }\n",
       "</style>\n",
       "<table border=\"1\" class=\"dataframe\">\n",
       "  <thead>\n",
       "    <tr style=\"text-align: right;\">\n",
       "      <th></th>\n",
       "      <th>Letters</th>\n",
       "      <th>Count</th>\n",
       "      <th>Percents</th>\n",
       "    </tr>\n",
       "  </thead>\n",
       "  <tbody>\n",
       "    <tr>\n",
       "      <th>0</th>\n",
       "      <td>J</td>\n",
       "      <td>10</td>\n",
       "      <td>0.197433</td>\n",
       "    </tr>\n",
       "    <tr>\n",
       "      <th>1</th>\n",
       "      <td>Q</td>\n",
       "      <td>14</td>\n",
       "      <td>0.276407</td>\n",
       "    </tr>\n",
       "    <tr>\n",
       "      <th>2</th>\n",
       "      <td>Z</td>\n",
       "      <td>19</td>\n",
       "      <td>0.375123</td>\n",
       "    </tr>\n",
       "    <tr>\n",
       "      <th>3</th>\n",
       "      <td>X</td>\n",
       "      <td>20</td>\n",
       "      <td>0.394867</td>\n",
       "    </tr>\n",
       "    <tr>\n",
       "      <th>4</th>\n",
       "      <td>V</td>\n",
       "      <td>58</td>\n",
       "      <td>1.145114</td>\n",
       "    </tr>\n",
       "    <tr>\n",
       "      <th>5</th>\n",
       "      <td>W</td>\n",
       "      <td>77</td>\n",
       "      <td>1.520237</td>\n",
       "    </tr>\n",
       "    <tr>\n",
       "      <th>6</th>\n",
       "      <td>F</td>\n",
       "      <td>94</td>\n",
       "      <td>1.855874</td>\n",
       "    </tr>\n",
       "    <tr>\n",
       "      <th>7</th>\n",
       "      <td>K</td>\n",
       "      <td>97</td>\n",
       "      <td>1.915104</td>\n",
       "    </tr>\n",
       "    <tr>\n",
       "      <th>8</th>\n",
       "      <td>B</td>\n",
       "      <td>120</td>\n",
       "      <td>2.369200</td>\n",
       "    </tr>\n",
       "    <tr>\n",
       "      <th>9</th>\n",
       "      <td>M</td>\n",
       "      <td>132</td>\n",
       "      <td>2.606120</td>\n",
       "    </tr>\n",
       "    <tr>\n",
       "      <th>10</th>\n",
       "      <td>G</td>\n",
       "      <td>145</td>\n",
       "      <td>2.862784</td>\n",
       "    </tr>\n",
       "    <tr>\n",
       "      <th>11</th>\n",
       "      <td>P</td>\n",
       "      <td>157</td>\n",
       "      <td>3.099704</td>\n",
       "    </tr>\n",
       "    <tr>\n",
       "      <th>12</th>\n",
       "      <td>D</td>\n",
       "      <td>159</td>\n",
       "      <td>3.139191</td>\n",
       "    </tr>\n",
       "    <tr>\n",
       "      <th>13</th>\n",
       "      <td>Y</td>\n",
       "      <td>163</td>\n",
       "      <td>3.218164</td>\n",
       "    </tr>\n",
       "    <tr>\n",
       "      <th>14</th>\n",
       "      <td>H</td>\n",
       "      <td>190</td>\n",
       "      <td>3.751234</td>\n",
       "    </tr>\n",
       "    <tr>\n",
       "      <th>15</th>\n",
       "      <td>U</td>\n",
       "      <td>192</td>\n",
       "      <td>3.790721</td>\n",
       "    </tr>\n",
       "    <tr>\n",
       "      <th>16</th>\n",
       "      <td>C</td>\n",
       "      <td>216</td>\n",
       "      <td>4.264561</td>\n",
       "    </tr>\n",
       "    <tr>\n",
       "      <th>17</th>\n",
       "      <td>N</td>\n",
       "      <td>247</td>\n",
       "      <td>4.876604</td>\n",
       "    </tr>\n",
       "    <tr>\n",
       "      <th>18</th>\n",
       "      <td>S</td>\n",
       "      <td>266</td>\n",
       "      <td>5.251728</td>\n",
       "    </tr>\n",
       "    <tr>\n",
       "      <th>19</th>\n",
       "      <td>I</td>\n",
       "      <td>283</td>\n",
       "      <td>5.587364</td>\n",
       "    </tr>\n",
       "    <tr>\n",
       "      <th>20</th>\n",
       "      <td>L</td>\n",
       "      <td>308</td>\n",
       "      <td>6.080948</td>\n",
       "    </tr>\n",
       "    <tr>\n",
       "      <th>21</th>\n",
       "      <td>T</td>\n",
       "      <td>345</td>\n",
       "      <td>6.811451</td>\n",
       "    </tr>\n",
       "    <tr>\n",
       "      <th>22</th>\n",
       "      <td>O</td>\n",
       "      <td>346</td>\n",
       "      <td>6.831194</td>\n",
       "    </tr>\n",
       "    <tr>\n",
       "      <th>23</th>\n",
       "      <td>R</td>\n",
       "      <td>403</td>\n",
       "      <td>7.956565</td>\n",
       "    </tr>\n",
       "    <tr>\n",
       "      <th>24</th>\n",
       "      <td>A</td>\n",
       "      <td>456</td>\n",
       "      <td>9.002962</td>\n",
       "    </tr>\n",
       "    <tr>\n",
       "      <th>25</th>\n",
       "      <td>E</td>\n",
       "      <td>548</td>\n",
       "      <td>10.819348</td>\n",
       "    </tr>\n",
       "  </tbody>\n",
       "</table>\n",
       "</div>"
      ],
      "text/plain": [
       "   Letters  Count   Percents\n",
       "0        J     10   0.197433\n",
       "1        Q     14   0.276407\n",
       "2        Z     19   0.375123\n",
       "3        X     20   0.394867\n",
       "4        V     58   1.145114\n",
       "5        W     77   1.520237\n",
       "6        F     94   1.855874\n",
       "7        K     97   1.915104\n",
       "8        B    120   2.369200\n",
       "9        M    132   2.606120\n",
       "10       G    145   2.862784\n",
       "11       P    157   3.099704\n",
       "12       D    159   3.139191\n",
       "13       Y    163   3.218164\n",
       "14       H    190   3.751234\n",
       "15       U    192   3.790721\n",
       "16       C    216   4.264561\n",
       "17       N    247   4.876604\n",
       "18       S    266   5.251728\n",
       "19       I    283   5.587364\n",
       "20       L    308   6.080948\n",
       "21       T    345   6.811451\n",
       "22       O    346   6.831194\n",
       "23       R    403   7.956565\n",
       "24       A    456   9.002962\n",
       "25       E    548  10.819348"
      ]
     },
     "execution_count": 501,
     "metadata": {},
     "output_type": "execute_result"
    }
   ],
   "source": [
    "letters['Percents'] = letters['Count']/total_letters*100\n",
    "letter_percents = letters.sort_values(by= ['Percents']).reset_index()\n",
    "letter_percents"
   ]
  },
  {
   "cell_type": "markdown",
   "id": "e826f386",
   "metadata": {},
   "source": [
    "### I'm pretty surprised that J is so low! When I see it and consider this, it does make sense. Definitely expected Q, Z, X, V at the bottom though."
   ]
  },
  {
   "cell_type": "code",
   "execution_count": 556,
   "id": "5a62a49b",
   "metadata": {},
   "outputs": [
    {
     "data": {
      "text/plain": [
       "Text(0.5, 1.0, 'Letter Usage in All Wordle Letters')"
      ]
     },
     "execution_count": 556,
     "metadata": {},
     "output_type": "execute_result"
    },
    {
     "data": {
      "image/png": "[encoded data removed]",
      "text/plain": [
       "<Figure size 1200x500 with 1 Axes>"
      ]
     },
     "metadata": {},
     "output_type": "display_data"
    }
   ],
   "source": [
    "fig, ax = plt.subplots(figsize=(12, 5))\n",
    "#sns.barplot(letter_percents, x='Letters', y='Count')\n",
    "sns.barplot(letter_percents, x='Letters', y='Percents')\n",
    "\n",
    "plt.grid(x)\n",
    "plt.xlabel(\"Letter\")\n",
    "#plt.ylabel(\"Count\")\n",
    "plt.ylabel(\"Letter Frequency in Percentage\")\n",
    "\n",
    "plt.title(\"Letter Usage in All Wordle Letters\")\n"
   ]
  },
  {
   "cell_type": "markdown",
   "id": "32dedfdc",
   "metadata": {},
   "source": [
    "## MOST USED\n",
    "\n",
    "- **Vowel:** E is used in **10.82%** of words\n",
    "- **Consonant:** R is used in **7.96%** of words\n",
    "\n",
    "## LEAST USED\n",
    "- **Vowel:** U is used in **3.79%** of words (and our sometimes Y is used in **3.22%** of words)\n",
    "- **Consonant:** J is used in just **0.197%** of words\n",
    "\n",
    "\n",
    "## ODDBALL LETTERS\n",
    "- **Q**: used in **0.276%** of words\n",
    "- **Z**: used in **0.375%** of words\n",
    "- **X**: used in **0.394%** of words\n",
    "- **J**: the unexpected oddball is used in **0.197%** of words\n",
    "\n",
    "These 4 letters are the only 4 used in less than **1%** of words. Even V gets used more, about **1.15%** of the time!\n",
    "___"
   ]
  },
  {
   "cell_type": "markdown",
   "id": "71ca19d4",
   "metadata": {},
   "source": [
    "## Data Analysis: And Sometimes Y... Words Where Y is A Vowel\n",
    "\n",
    "Our standard vowels are A, E, I, O & U. Our oddball friend is only considered a vowel in a few different instances, and the most notable instance occuring when no other vowel is found in a word. What played Wordle words contain only Y as a vowel?"
   ]
  },
  {
   "cell_type": "code",
   "execution_count": 450,
   "id": "b679322f",
   "metadata": {
    "scrolled": true
   },
   "outputs": [],
   "source": [
    "#wordle_words"
   ]
  },
  {
   "cell_type": "code",
   "execution_count": 452,
   "id": "c4281cda",
   "metadata": {},
   "outputs": [],
   "source": [
    "y_words = []\n",
    "\n",
    "for word in wordle_words:\n",
    "    for letter in word:\n",
    "        if letter == 'Y':\n",
    "            y_words.append(word)\n",
    "\n",
    "#y_words"
   ]
  },
  {
   "cell_type": "code",
   "execution_count": 454,
   "id": "e484cc9e",
   "metadata": {},
   "outputs": [],
   "source": [
    "other_vowels = []\n",
    "vowels = ['A', 'E', 'I', 'O', 'U']\n",
    "\n",
    "for word in y_words:\n",
    "    for letter in word:\n",
    "        if letter in vowels:\n",
    "            other_vowels.append(word)\n"
   ]
  },
  {
   "cell_type": "code",
   "execution_count": 455,
   "id": "d918ea61",
   "metadata": {
    "scrolled": false
   },
   "outputs": [
    {
     "data": {
      "text/plain": [
       "['SHYLY', 'SHYLY', 'GLYPH', 'TRYST', 'NYMPH']"
      ]
     },
     "execution_count": 455,
     "metadata": {},
     "output_type": "execute_result"
    }
   ],
   "source": [
    "y_vowel = []\n",
    "\n",
    "for word in y_words:\n",
    "    if word not in other_vowels:\n",
    "        y_vowel.append(word)\n",
    "        \n",
    "y_vowel"
   ]
  },
  {
   "cell_type": "markdown",
   "id": "00704c62",
   "metadata": {},
   "source": [
    "Not sure why SHYLY shows up twice, I confirmed no duplicates exist in the main Wordle words dictionary, so it much have been duplicated during this analysis process.\n",
    "\n",
    "###  our Y-only words! SHYLY,  GLYPH, TRYST, NYMPH \n",
    "\n",
    "---\n"
   ]
  },
  {
   "cell_type": "markdown",
   "id": "a3b524a6",
   "metadata": {},
   "source": [
    "## Data Analysis: Letter Usage Per Location"
   ]
  },
  {
   "cell_type": "markdown",
   "id": "422c1ab7",
   "metadata": {},
   "source": [
    "Let's say a Wordle word is made up of letters in the sequence --> **[1] [2] [3] [4] [5]**<br>\n",
    "- How often is each letter used in each location?\n",
    "- How often do chosen words start with a vowel?\n",
    "- How often is Q found somewhere else but location [1]?\n",
    "- I'm sure there's more!"
   ]
  },
  {
   "cell_type": "code",
   "execution_count": 424,
   "id": "21d11d05",
   "metadata": {},
   "outputs": [],
   "source": [
    "first = []\n",
    "second = []\n",
    "third = []\n",
    "fourth = []\n",
    "fifth = []\n",
    "\n",
    "for word in wordle_words:\n",
    "    first += word[0]\n",
    "    second += word[1]\n",
    "    third += word[2]\n",
    "    fourth += word[3]\n",
    "    fifth += word[4]"
   ]
  },
  {
   "cell_type": "code",
   "execution_count": 422,
   "id": "c894e571",
   "metadata": {
    "scrolled": false
   },
   "outputs": [
    {
     "data": {
      "text/html": [
       "<div>\n",
       "<style scoped>\n",
       "    .dataframe tbody tr th:only-of-type {\n",
       "        vertical-align: middle;\n",
       "    }\n",
       "\n",
       "    .dataframe tbody tr th {\n",
       "        vertical-align: top;\n",
       "    }\n",
       "\n",
       "    .dataframe thead th {\n",
       "        text-align: right;\n",
       "    }\n",
       "</style>\n",
       "<table border=\"1\" class=\"dataframe\">\n",
       "  <thead>\n",
       "    <tr style=\"text-align: right;\">\n",
       "      <th></th>\n",
       "      <th>First</th>\n",
       "      <th>Second</th>\n",
       "      <th>Third</th>\n",
       "      <th>Fourth</th>\n",
       "      <th>Fifth</th>\n",
       "    </tr>\n",
       "  </thead>\n",
       "  <tbody>\n",
       "    <tr>\n",
       "      <th>0</th>\n",
       "      <td>R</td>\n",
       "      <td>I</td>\n",
       "      <td>S</td>\n",
       "      <td>E</td>\n",
       "      <td>N</td>\n",
       "    </tr>\n",
       "    <tr>\n",
       "      <th>1</th>\n",
       "      <td>D</td>\n",
       "      <td>E</td>\n",
       "      <td>C</td>\n",
       "      <td>A</td>\n",
       "      <td>Y</td>\n",
       "    </tr>\n",
       "    <tr>\n",
       "      <th>2</th>\n",
       "      <td>S</td>\n",
       "      <td>H</td>\n",
       "      <td>A</td>\n",
       "      <td>D</td>\n",
       "      <td>E</td>\n",
       "    </tr>\n",
       "    <tr>\n",
       "      <th>3</th>\n",
       "      <td>L</td>\n",
       "      <td>I</td>\n",
       "      <td>N</td>\n",
       "      <td>G</td>\n",
       "      <td>O</td>\n",
       "    </tr>\n",
       "    <tr>\n",
       "      <th>4</th>\n",
       "      <td>A</td>\n",
       "      <td>B</td>\n",
       "      <td>I</td>\n",
       "      <td>D</td>\n",
       "      <td>E</td>\n",
       "    </tr>\n",
       "    <tr>\n",
       "      <th>...</th>\n",
       "      <td>...</td>\n",
       "      <td>...</td>\n",
       "      <td>...</td>\n",
       "      <td>...</td>\n",
       "      <td>...</td>\n",
       "    </tr>\n",
       "    <tr>\n",
       "      <th>1008</th>\n",
       "      <td>C</td>\n",
       "      <td>I</td>\n",
       "      <td>G</td>\n",
       "      <td>A</td>\n",
       "      <td>R</td>\n",
       "    </tr>\n",
       "    <tr>\n",
       "      <th>1009</th>\n",
       "      <td>B</td>\n",
       "      <td>U</td>\n",
       "      <td>T</td>\n",
       "      <td>C</td>\n",
       "      <td>H</td>\n",
       "    </tr>\n",
       "    <tr>\n",
       "      <th>1010</th>\n",
       "      <td>F</td>\n",
       "      <td>E</td>\n",
       "      <td>T</td>\n",
       "      <td>U</td>\n",
       "      <td>S</td>\n",
       "    </tr>\n",
       "    <tr>\n",
       "      <th>1011</th>\n",
       "      <td>H</td>\n",
       "      <td>A</td>\n",
       "      <td>R</td>\n",
       "      <td>R</td>\n",
       "      <td>Y</td>\n",
       "    </tr>\n",
       "    <tr>\n",
       "      <th>1012</th>\n",
       "      <td>A</td>\n",
       "      <td>G</td>\n",
       "      <td>O</td>\n",
       "      <td>R</td>\n",
       "      <td>A</td>\n",
       "    </tr>\n",
       "  </tbody>\n",
       "</table>\n",
       "<p>1013 rows × 5 columns</p>\n",
       "</div>"
      ],
      "text/plain": [
       "     First Second Third Fourth Fifth\n",
       "0        R      I     S      E     N\n",
       "1        D      E     C      A     Y\n",
       "2        S      H     A      D     E\n",
       "3        L      I     N      G     O\n",
       "4        A      B     I      D     E\n",
       "...    ...    ...   ...    ...   ...\n",
       "1008     C      I     G      A     R\n",
       "1009     B      U     T      C     H\n",
       "1010     F      E     T      U     S\n",
       "1011     H      A     R      R     Y\n",
       "1012     A      G     O      R     A\n",
       "\n",
       "[1013 rows x 5 columns]"
      ]
     },
     "execution_count": 422,
     "metadata": {},
     "output_type": "execute_result"
    }
   ],
   "source": [
    "letter_location = pd.DataFrame({'Word': key, 'First': first, 'Second': second, 'Third': third, 'Fourth': fourth, 'Fifth': fifth},\n",
    "                              columns = ['First','Second','Third','Fourth','Fifth'])\n",
    "\n",
    "letter_location"
   ]
  },
  {
   "cell_type": "code",
   "execution_count": 145,
   "id": "dae534ae",
   "metadata": {},
   "outputs": [],
   "source": [
    "first_counts2 = letter_location['First'].value_counts().reset_index().rename(columns={\"First\": \"Letter\", \"count\": \"Counts\"}).sort_values(by='Letter')\n",
    "\n",
    "first_counts = letter_location['First'].value_counts()\n",
    "# this method is too cumbersome, need to re-evaluate\n",
    "# couldn't figure out how to re-compile each location count\n"
   ]
  },
  {
   "cell_type": "code",
   "execution_count": 176,
   "id": "b9f3f7cc",
   "metadata": {},
   "outputs": [],
   "source": [
    "#for c in letter_location.columns:\n",
    "    #print (\"c\")\n",
    "    #print (letter_location[c].value_counts())\n",
    "\n",
    "# used this to confirm my work with location_counts belows"
   ]
  },
  {
   "cell_type": "code",
   "execution_count": 167,
   "id": "d2f39b2b",
   "metadata": {},
   "outputs": [],
   "source": [
    "location_counts = letter_location.apply(pd.Series.value_counts)\n",
    "#location_counts"
   ]
  },
  {
   "cell_type": "code",
   "execution_count": 166,
   "id": "727c32a3",
   "metadata": {
    "scrolled": true
   },
   "outputs": [
    {
     "data": {
      "text/html": [
       "<div>\n",
       "<style scoped>\n",
       "    .dataframe tbody tr th:only-of-type {\n",
       "        vertical-align: middle;\n",
       "    }\n",
       "\n",
       "    .dataframe tbody tr th {\n",
       "        vertical-align: top;\n",
       "    }\n",
       "\n",
       "    .dataframe thead th {\n",
       "        text-align: right;\n",
       "    }\n",
       "</style>\n",
       "<table border=\"1\" class=\"dataframe\">\n",
       "  <thead>\n",
       "    <tr style=\"text-align: right;\">\n",
       "      <th></th>\n",
       "      <th>First</th>\n",
       "      <th>Second</th>\n",
       "      <th>Third</th>\n",
       "      <th>Fourth</th>\n",
       "      <th>Fifth</th>\n",
       "    </tr>\n",
       "  </thead>\n",
       "  <tbody>\n",
       "    <tr>\n",
       "      <th>A</th>\n",
       "      <td>7.403751</td>\n",
       "      <td>12.438302</td>\n",
       "      <td>14.807502</td>\n",
       "      <td>7.502468</td>\n",
       "      <td>2.862784</td>\n",
       "    </tr>\n",
       "    <tr>\n",
       "      <th>B</th>\n",
       "      <td>7.699901</td>\n",
       "      <td>0.789733</td>\n",
       "      <td>1.974334</td>\n",
       "      <td>0.789733</td>\n",
       "      <td>0.592300</td>\n",
       "    </tr>\n",
       "    <tr>\n",
       "      <th>C</th>\n",
       "      <td>8.785785</td>\n",
       "      <td>1.678184</td>\n",
       "      <td>2.566634</td>\n",
       "      <td>6.416584</td>\n",
       "      <td>1.875617</td>\n",
       "    </tr>\n",
       "    <tr>\n",
       "      <th>D</th>\n",
       "      <td>3.553801</td>\n",
       "      <td>0.592300</td>\n",
       "      <td>3.060217</td>\n",
       "      <td>3.356367</td>\n",
       "      <td>5.133268</td>\n",
       "    </tr>\n",
       "    <tr>\n",
       "      <th>E</th>\n",
       "      <td>3.257651</td>\n",
       "      <td>9.772952</td>\n",
       "      <td>7.798618</td>\n",
       "      <td>12.537019</td>\n",
       "      <td>20.730503</td>\n",
       "    </tr>\n",
       "    <tr>\n",
       "      <th>F</th>\n",
       "      <td>5.824284</td>\n",
       "      <td>0.296150</td>\n",
       "      <td>0.691017</td>\n",
       "      <td>1.283317</td>\n",
       "      <td>1.184600</td>\n",
       "    </tr>\n",
       "    <tr>\n",
       "      <th>G</th>\n",
       "      <td>5.330701</td>\n",
       "      <td>1.184600</td>\n",
       "      <td>2.665350</td>\n",
       "      <td>3.455084</td>\n",
       "      <td>1.678184</td>\n",
       "    </tr>\n",
       "    <tr>\n",
       "      <th>H</th>\n",
       "      <td>3.455084</td>\n",
       "      <td>7.305035</td>\n",
       "      <td>0.493583</td>\n",
       "      <td>1.382034</td>\n",
       "      <td>6.120434</td>\n",
       "    </tr>\n",
       "    <tr>\n",
       "      <th>I</th>\n",
       "      <td>1.579467</td>\n",
       "      <td>7.601185</td>\n",
       "      <td>11.352419</td>\n",
       "      <td>7.008885</td>\n",
       "      <td>0.394867</td>\n",
       "    </tr>\n",
       "    <tr>\n",
       "      <th>J</th>\n",
       "      <td>0.493583</td>\n",
       "      <td>0.197433</td>\n",
       "      <td>0.197433</td>\n",
       "      <td>0.098717</td>\n",
       "      <td>NaN</td>\n",
       "    </tr>\n",
       "    <tr>\n",
       "      <th>K</th>\n",
       "      <td>1.085884</td>\n",
       "      <td>0.394867</td>\n",
       "      <td>0.592300</td>\n",
       "      <td>2.862784</td>\n",
       "      <td>4.639684</td>\n",
       "    </tr>\n",
       "    <tr>\n",
       "      <th>L</th>\n",
       "      <td>4.047384</td>\n",
       "      <td>8.983218</td>\n",
       "      <td>3.948667</td>\n",
       "      <td>6.811451</td>\n",
       "      <td>6.614018</td>\n",
       "    </tr>\n",
       "    <tr>\n",
       "      <th>M</th>\n",
       "      <td>4.837117</td>\n",
       "      <td>1.678184</td>\n",
       "      <td>1.875617</td>\n",
       "      <td>3.158934</td>\n",
       "      <td>1.480750</td>\n",
       "    </tr>\n",
       "    <tr>\n",
       "      <th>N</th>\n",
       "      <td>1.382034</td>\n",
       "      <td>4.442251</td>\n",
       "      <td>5.923001</td>\n",
       "      <td>7.798618</td>\n",
       "      <td>4.837117</td>\n",
       "    </tr>\n",
       "    <tr>\n",
       "      <th>O</th>\n",
       "      <td>1.283317</td>\n",
       "      <td>13.326752</td>\n",
       "      <td>11.747285</td>\n",
       "      <td>4.935834</td>\n",
       "      <td>2.862784</td>\n",
       "    </tr>\n",
       "    <tr>\n",
       "      <th>P</th>\n",
       "      <td>5.725568</td>\n",
       "      <td>2.566634</td>\n",
       "      <td>2.862784</td>\n",
       "      <td>2.073050</td>\n",
       "      <td>2.270484</td>\n",
       "    </tr>\n",
       "    <tr>\n",
       "      <th>Q</th>\n",
       "      <td>0.987167</td>\n",
       "      <td>0.296150</td>\n",
       "      <td>0.098717</td>\n",
       "      <td>NaN</td>\n",
       "      <td>NaN</td>\n",
       "    </tr>\n",
       "    <tr>\n",
       "      <th>R</th>\n",
       "      <td>4.244817</td>\n",
       "      <td>11.352419</td>\n",
       "      <td>7.798618</td>\n",
       "      <td>8.193485</td>\n",
       "      <td>8.193485</td>\n",
       "    </tr>\n",
       "    <tr>\n",
       "      <th>S</th>\n",
       "      <td>14.116486</td>\n",
       "      <td>1.184600</td>\n",
       "      <td>2.665350</td>\n",
       "      <td>7.008885</td>\n",
       "      <td>1.283317</td>\n",
       "    </tr>\n",
       "    <tr>\n",
       "      <th>T</th>\n",
       "      <td>7.206318</td>\n",
       "      <td>3.751234</td>\n",
       "      <td>4.540967</td>\n",
       "      <td>6.120434</td>\n",
       "      <td>12.438302</td>\n",
       "    </tr>\n",
       "    <tr>\n",
       "      <th>U</th>\n",
       "      <td>2.171767</td>\n",
       "      <td>6.317868</td>\n",
       "      <td>7.107601</td>\n",
       "      <td>3.158934</td>\n",
       "      <td>0.197433</td>\n",
       "    </tr>\n",
       "    <tr>\n",
       "      <th>V</th>\n",
       "      <td>1.480750</td>\n",
       "      <td>0.592300</td>\n",
       "      <td>1.678184</td>\n",
       "      <td>1.974334</td>\n",
       "      <td>NaN</td>\n",
       "    </tr>\n",
       "    <tr>\n",
       "      <th>W</th>\n",
       "      <td>3.455084</td>\n",
       "      <td>1.776900</td>\n",
       "      <td>0.888450</td>\n",
       "      <td>0.691017</td>\n",
       "      <td>0.789733</td>\n",
       "    </tr>\n",
       "    <tr>\n",
       "      <th>X</th>\n",
       "      <td>NaN</td>\n",
       "      <td>0.888450</td>\n",
       "      <td>0.592300</td>\n",
       "      <td>0.197433</td>\n",
       "      <td>0.296150</td>\n",
       "    </tr>\n",
       "    <tr>\n",
       "      <th>Y</th>\n",
       "      <td>0.493583</td>\n",
       "      <td>0.493583</td>\n",
       "      <td>1.678184</td>\n",
       "      <td>0.098717</td>\n",
       "      <td>13.326752</td>\n",
       "    </tr>\n",
       "    <tr>\n",
       "      <th>Z</th>\n",
       "      <td>0.098717</td>\n",
       "      <td>0.098717</td>\n",
       "      <td>0.394867</td>\n",
       "      <td>1.085884</td>\n",
       "      <td>0.197433</td>\n",
       "    </tr>\n",
       "  </tbody>\n",
       "</table>\n",
       "</div>"
      ],
      "text/plain": [
       "       First     Second      Third     Fourth      Fifth\n",
       "A   7.403751  12.438302  14.807502   7.502468   2.862784\n",
       "B   7.699901   0.789733   1.974334   0.789733   0.592300\n",
       "C   8.785785   1.678184   2.566634   6.416584   1.875617\n",
       "D   3.553801   0.592300   3.060217   3.356367   5.133268\n",
       "E   3.257651   9.772952   7.798618  12.537019  20.730503\n",
       "F   5.824284   0.296150   0.691017   1.283317   1.184600\n",
       "G   5.330701   1.184600   2.665350   3.455084   1.678184\n",
       "H   3.455084   7.305035   0.493583   1.382034   6.120434\n",
       "I   1.579467   7.601185  11.352419   7.008885   0.394867\n",
       "J   0.493583   0.197433   0.197433   0.098717        NaN\n",
       "K   1.085884   0.394867   0.592300   2.862784   4.639684\n",
       "L   4.047384   8.983218   3.948667   6.811451   6.614018\n",
       "M   4.837117   1.678184   1.875617   3.158934   1.480750\n",
       "N   1.382034   4.442251   5.923001   7.798618   4.837117\n",
       "O   1.283317  13.326752  11.747285   4.935834   2.862784\n",
       "P   5.725568   2.566634   2.862784   2.073050   2.270484\n",
       "Q   0.987167   0.296150   0.098717        NaN        NaN\n",
       "R   4.244817  11.352419   7.798618   8.193485   8.193485\n",
       "S  14.116486   1.184600   2.665350   7.008885   1.283317\n",
       "T   7.206318   3.751234   4.540967   6.120434  12.438302\n",
       "U   2.171767   6.317868   7.107601   3.158934   0.197433\n",
       "V   1.480750   0.592300   1.678184   1.974334        NaN\n",
       "W   3.455084   1.776900   0.888450   0.691017   0.789733\n",
       "X        NaN   0.888450   0.592300   0.197433   0.296150\n",
       "Y   0.493583   0.493583   1.678184   0.098717  13.326752\n",
       "Z   0.098717   0.098717   0.394867   1.085884   0.197433"
      ]
     },
     "execution_count": 166,
     "metadata": {},
     "output_type": "execute_result"
    }
   ],
   "source": [
    "letter_percent = location_counts/word_count*100\n",
    "letter_percent"
   ]
  },
  {
   "cell_type": "markdown",
   "id": "2631b65e",
   "metadata": {},
   "source": [
    "### This answers the question of how often each letter is used in each location, in terms of percentage in of Wordle words that have been played."
   ]
  },
  {
   "cell_type": "code",
   "execution_count": 175,
   "id": "ef6eeeb4",
   "metadata": {},
   "outputs": [
    {
     "data": {
      "text/plain": [
       "100.00000000000001"
      ]
     },
     "execution_count": 175,
     "metadata": {},
     "output_type": "execute_result"
    }
   ],
   "source": [
    "# just checking my work here\n",
    "letter_percent['Fifth'].sum()"
   ]
  },
  {
   "cell_type": "markdown",
   "id": "55899559",
   "metadata": {},
   "source": [
    "### How often is a given letter used in each position of the current list of Wordle words?"
   ]
  },
  {
   "cell_type": "code",
   "execution_count": 579,
   "id": "e24d157e",
   "metadata": {
    "scrolled": false
   },
   "outputs": [
    {
     "data": {
      "text/plain": [
       "Text(0.5, 1.0, 'What Letters are Used in What Location?')"
      ]
     },
     "execution_count": 579,
     "metadata": {},
     "output_type": "execute_result"
    },
    {
     "data": {
      "image/png": "[encoded data removed]",
      "text/plain": [
       "<Figure size 1400x400 with 2 Axes>"
      ]
     },
     "metadata": {},
     "output_type": "display_data"
    }
   ],
   "source": [
    "fig, ax = plt.subplots(figsize=(14, 4))\n",
    "sns.heatmap(letter_percent.transpose(), cmap=\"flare\")\n",
    "plt.title(\"What Letters are Used in What Location?\")"
   ]
  },
  {
   "cell_type": "markdown",
   "id": "6536f708",
   "metadata": {},
   "source": [
    "### This is a really fun breakdown!\n",
    "- For Letter [1], all letters have been used **except X**\n",
    "- For Letter [2] & [3], **all letters** have been used\n",
    "- For Letter [4], all letters have been used **except Q**\n",
    "- For Letter [5], all letters have been used **except J, Q & V**\n",
    "\n",
    "### How often does a word start with a vowel?\n",
    "- A: 7.403751\n",
    "- E: 3.257651\n",
    "- I: 1.579467\n",
    "- O: 1.283317\n",
    "- U: 2.171767\n",
    "- Y: 0.493583\n",
    "\n",
    "For a total of **15.69%** of words! I'm pretty surprised about that. "
   ]
  },
  {
   "cell_type": "code",
   "execution_count": 459,
   "id": "5ad7f898",
   "metadata": {},
   "outputs": [
    {
     "name": "stdout",
     "output_type": "stream",
     "text": [
      "15.695953\n"
     ]
    }
   ],
   "source": [
    "vowel_starts = 7.403751 + 3.257651 + 1.579467 + 1.283317 + 2.171767\n",
    "print(vowel_starts)\n",
    "\n",
    "# print(f'And sometimes Y: {vowel_starts + 0.493583}')\n",
    "# apparently Y is not usually considered a vowel when it starts a word!\n",
    "# learn something new every day\n",
    "\n"
   ]
  },
  {
   "cell_type": "markdown",
   "id": "6bbac225",
   "metadata": {},
   "source": [
    "---"
   ]
  },
  {
   "cell_type": "markdown",
   "id": "a7a5cbc5",
   "metadata": {},
   "source": [
    "## Data Analysis: Double (Triple?!) Letter Usage"
   ]
  },
  {
   "cell_type": "markdown",
   "id": "8a9b28db",
   "metadata": {},
   "source": [
    "\n",
    "- How many words played have used a double letter?\n",
    "- Have any played a triple letter?!\n",
    "- What letters get used as double (or more) letters?\n"
   ]
  },
  {
   "cell_type": "code",
   "execution_count": 398,
   "id": "1ac9fbf2",
   "metadata": {
    "scrolled": true
   },
   "outputs": [],
   "source": [
    "#wordle_words"
   ]
  },
  {
   "cell_type": "code",
   "execution_count": 221,
   "id": "8ef18881",
   "metadata": {
    "scrolled": true
   },
   "outputs": [],
   "source": [
    "wordle_double = []\n",
    "letter_list = []\n",
    "\n",
    "for word in wordle_words:\n",
    "    for letter in word:\n",
    "        letter_list.append(letter)\n",
    "        if letter in letter_list:\n",
    "            wordle_double.append(word)\n",
    "        else:\n",
    "            pass\n",
    "\n",
    "\n",
    "#wordle_double"
   ]
  },
  {
   "cell_type": "markdown",
   "id": "68e67f08",
   "metadata": {},
   "source": [
    "### Couldn't get this to work as I'd hoped. Want to loop through each word's letters and look for a duplicate. If it appeared, I wanted to append that word to the wordle_double list. I got it working by using sets to remove duplicates and then compare to the original word."
   ]
  },
  {
   "cell_type": "code",
   "execution_count": 204,
   "id": "53a2af3d",
   "metadata": {},
   "outputs": [
    {
     "data": {
      "text/plain": [
       "['C', 'H', 'E', 'E', 'R']"
      ]
     },
     "execution_count": 204,
     "metadata": {},
     "output_type": "execute_result"
    }
   ],
   "source": [
    "list(wordle_words[14])\n",
    "    "
   ]
  },
  {
   "cell_type": "code",
   "execution_count": 205,
   "id": "85801a8a",
   "metadata": {},
   "outputs": [
    {
     "data": {
      "text/plain": [
       "['C', 'R', 'E', 'H']"
      ]
     },
     "execution_count": 205,
     "metadata": {},
     "output_type": "execute_result"
    }
   ],
   "source": [
    "list(set(wordle_words[14]))"
   ]
  },
  {
   "cell_type": "code",
   "execution_count": 206,
   "id": "ec247c3e",
   "metadata": {},
   "outputs": [
    {
     "data": {
      "text/plain": [
       "False"
      ]
     },
     "execution_count": 206,
     "metadata": {},
     "output_type": "execute_result"
    }
   ],
   "source": [
    "list(set(wordle_words[14])) == list(wordle_words[14])"
   ]
  },
  {
   "cell_type": "code",
   "execution_count": 404,
   "id": "16d58458",
   "metadata": {
    "scrolled": true
   },
   "outputs": [],
   "source": [
    "# checking the above logic again the current list\n",
    "\n",
    "#for word in wordle_words:\n",
    "    #print(sorted(list(set(word))) == sorted(list(word)))"
   ]
  },
  {
   "cell_type": "code",
   "execution_count": 222,
   "id": "ee2b2137",
   "metadata": {
    "scrolled": true
   },
   "outputs": [
    {
     "data": {
      "text/plain": [
       "['LOCAL',\n",
       " 'HEAVE',\n",
       " 'CHEER',\n",
       " 'HUNCH',\n",
       " '...',\n",
       " 'EVADE',\n",
       " 'AWAKE',\n",
       " 'HUMPH',\n",
       " 'SISSY',\n",
       " 'HARRY',\n",
       " 'AGORA']"
      ]
     },
     "execution_count": 222,
     "metadata": {},
     "output_type": "execute_result"
    }
   ],
   "source": [
    "wordle_double = []\n",
    "letter_list = []\n",
    "\n",
    "for word in wordle_words:\n",
    "    if (sorted(list(set(word))) == sorted(list(word))) == False:\n",
    "        wordle_double.append(word)\n",
    "    else:\n",
    "        pass\n",
    "\n",
    "wordle_double\n",
    "        "
   ]
  },
  {
   "cell_type": "markdown",
   "id": "a1372e97",
   "metadata": {},
   "source": [
    "### OK new method worked! Let's take a look at our counts."
   ]
  },
  {
   "cell_type": "code",
   "execution_count": 223,
   "id": "bf2a65b9",
   "metadata": {
    "scrolled": true
   },
   "outputs": [
    {
     "data": {
      "text/plain": [
       "296"
      ]
     },
     "execution_count": 223,
     "metadata": {},
     "output_type": "execute_result"
    }
   ],
   "source": [
    "len(wordle_double)"
   ]
  },
  {
   "cell_type": "code",
   "execution_count": 225,
   "id": "10f4b799",
   "metadata": {
    "scrolled": true
   },
   "outputs": [
    {
     "data": {
      "text/plain": [
       "29.220138203356367"
      ]
     },
     "execution_count": 225,
     "metadata": {},
     "output_type": "execute_result"
    }
   ],
   "source": [
    "len(wordle_double)/word_count*100"
   ]
  },
  {
   "cell_type": "markdown",
   "id": "2d41ff70",
   "metadata": {},
   "source": [
    "### In Wordle games thus far, 29% of words played have used a double (or triple) letter. At the bottom, we get our evaluation of the 7 rare words that use a triple letter. In the meantime, let's try to figure out what letters are used as a double or triple."
   ]
  },
  {
   "cell_type": "code",
   "execution_count": 342,
   "id": "cbe36a4f",
   "metadata": {},
   "outputs": [
    {
     "data": {
      "text/plain": [
       "{'LOCAL': 'L',\n",
       " 'HEAVE': 'E',\n",
       " 'CHEER': 'E',\n",
       " 'HUNCH': 'H',\n",
       " 'STATE': 'T',\n",
       " 'SENSE': 'E',\n",
       " 'PIPER': 'P',\n",
       " 'APART': 'A',\n",
       " 'STASH': 'S',\n",
       " 'PASTA': 'A',\n",
       " 'NEVER': 'E',\n",
       " 'STIFF': 'F',\n",
       " 'WHICH': 'H',\n",
       " 'REPEL': 'E',\n",
       " 'VERGE': 'E',\n",
       " 'EXPEL': 'E',\n",
       " 'LEGGY': 'G',\n",
       " 'EMBER': 'E',\n",
       " 'ALOOF': 'O',\n",
       " 'STILL': 'L',\n",
       " 'AGING': 'G',\n",
       " 'THREE': 'E',\n",
       " 'EVOKE': 'E',\n",
       " 'SMALL': 'L',\n",
       " 'FUNNY': 'N',\n",
       " 'THESE': 'E',\n",
       " 'SLEEP': 'E',\n",
       " 'ADAPT': 'A',\n",
       " 'GENRE': 'E',\n",
       " 'SUSHI': 'S',\n",
       " 'QUEEN': 'E',\n",
       " 'QUEUE': 'E',\n",
       " 'TRUST': 'T',\n",
       " 'SASSY': 'S',\n",
       " 'GREEN': 'E',\n",
       " 'NINJA': 'N',\n",
       " 'LIMIT': 'I',\n",
       " 'MANIA': 'A',\n",
       " 'ARDOR': 'R',\n",
       " 'RETRY': 'R',\n",
       " 'OCCUR': 'C',\n",
       " 'SKUNK': 'K',\n",
       " 'TRUTH': 'T',\n",
       " 'MERRY': 'R',\n",
       " 'BERET': 'E',\n",
       " 'DADDY': 'D',\n",
       " 'COACH': 'C',\n",
       " 'LOYAL': 'L',\n",
       " 'EXERT': 'E',\n",
       " 'DWELL': 'L',\n",
       " 'GIDDY': 'D',\n",
       " 'AWAIT': 'A',\n",
       " 'ONION': 'N',\n",
       " 'PEACE': 'E',\n",
       " 'VERVE': 'E',\n",
       " 'MAGMA': 'A',\n",
       " 'AMISS': 'S',\n",
       " 'HELLO': 'L',\n",
       " 'BULLY': 'L',\n",
       " 'BROOK': 'O',\n",
       " 'POLYP': 'P',\n",
       " 'BEGET': 'E',\n",
       " 'TENTH': 'T',\n",
       " 'WHEEL': 'E',\n",
       " 'HOBBY': 'B',\n",
       " 'DROOP': 'O',\n",
       " 'FOLLY': 'L',\n",
       " 'ENTER': 'E',\n",
       " 'MOSSY': 'S',\n",
       " 'BLEEP': 'E',\n",
       " 'TRACT': 'T',\n",
       " 'RODEO': 'O',\n",
       " 'TASTE': 'T',\n",
       " 'KAZOO': 'O',\n",
       " 'SHYLY': 'Y',\n",
       " 'AGAIN': 'A',\n",
       " 'BALSA': 'A',\n",
       " 'ENNUI': 'N',\n",
       " 'NANNY': 'N',\n",
       " 'JAZZY': 'Z',\n",
       " 'KNEEL': 'E',\n",
       " 'UTTER': 'T',\n",
       " 'IGLOO': 'O',\n",
       " 'LATTE': 'T',\n",
       " 'BROOM': 'O',\n",
       " 'COCOA': 'O',\n",
       " 'GUPPY': 'P',\n",
       " 'PLAZA': 'A',\n",
       " 'CIRCA': 'C',\n",
       " 'DITTO': 'T',\n",
       " 'KAYAK': 'K',\n",
       " 'WHIFF': 'F',\n",
       " 'CARAT': 'A',\n",
       " 'LEDGE': 'E',\n",
       " 'SMASH': 'S',\n",
       " 'EVERY': 'E',\n",
       " 'BESET': 'E',\n",
       " 'HURRY': 'R',\n",
       " 'SWEEP': 'E',\n",
       " 'REVEL': 'E',\n",
       " 'WHERE': 'E',\n",
       " 'MOOSE': 'O',\n",
       " 'FIFTY': 'F',\n",
       " 'ARBOR': 'R',\n",
       " 'RIPER': 'R',\n",
       " 'RUDDY': 'D',\n",
       " 'KIOSK': 'K',\n",
       " 'AVAIL': 'A',\n",
       " 'CACHE': 'C',\n",
       " 'SALSA': 'A',\n",
       " 'FLAIL': 'L',\n",
       " 'APPLE': 'P',\n",
       " 'NINTH': 'N',\n",
       " 'TASTY': 'T',\n",
       " 'CROSS': 'S',\n",
       " 'WORRY': 'R',\n",
       " 'BEEFY': 'E',\n",
       " 'ELUDE': 'E',\n",
       " 'BLURB': 'B',\n",
       " 'KOALA': 'A',\n",
       " 'PIXIE': 'I',\n",
       " 'BELIE': 'E',\n",
       " 'SLEEK': 'E',\n",
       " 'CONDO': 'O',\n",
       " 'AORTA': 'A',\n",
       " 'EXCEL': 'E',\n",
       " 'USUAL': 'U',\n",
       " 'APPLY': 'P',\n",
       " 'KNOCK': 'K',\n",
       " 'TORSO': 'O',\n",
       " 'EJECT': 'E',\n",
       " 'UNDUE': 'U',\n",
       " 'HAPPY': 'P',\n",
       " 'THERE': 'E',\n",
       " 'INANE': 'N',\n",
       " 'SPELL': 'L',\n",
       " 'PHOTO': 'O',\n",
       " 'LIBEL': 'L',\n",
       " 'CARRY': 'R',\n",
       " 'FOGGY': 'G',\n",
       " 'MUMMY': 'M',\n",
       " 'CATCH': 'C',\n",
       " 'FLOOR': 'O',\n",
       " 'IONIC': 'I',\n",
       " 'DANDY': 'D',\n",
       " 'LEAVE': 'E',\n",
       " 'USURP': 'U',\n",
       " 'SOGGY': 'G',\n",
       " 'PARER': 'R',\n",
       " 'ALPHA': 'A',\n",
       " 'BOOZE': 'O',\n",
       " 'TIBIA': 'I',\n",
       " 'THEME': 'E',\n",
       " 'CLASS': 'S',\n",
       " 'LEERY': 'E',\n",
       " 'TAUNT': 'T',\n",
       " 'WHOOP': 'O',\n",
       " 'GULLY': 'L',\n",
       " 'RUDER': 'R',\n",
       " 'NEEDY': 'E',\n",
       " 'TREAT': 'T',\n",
       " 'KHAKI': 'K',\n",
       " 'LABEL': 'L',\n",
       " 'PATTY': 'T',\n",
       " 'BUGGY': 'G',\n",
       " 'COYLY': 'Y',\n",
       " 'BLUFF': 'F',\n",
       " 'MOTTO': 'O',\n",
       " 'CINCH': 'C',\n",
       " 'ELOPE': 'E',\n",
       " 'TRYST': 'T',\n",
       " 'TRITE': 'T',\n",
       " 'ROOMY': 'O',\n",
       " 'WEDGE': 'E',\n",
       " 'MADAM': 'M',\n",
       " 'AGAPE': 'A',\n",
       " 'FLUFF': 'F',\n",
       " 'SEVER': 'E',\n",
       " 'LILAC': 'L',\n",
       " 'EGRET': 'E',\n",
       " 'HUTCH': 'H',\n",
       " 'DROLL': 'L',\n",
       " 'RETRO': 'R',\n",
       " 'CACAO': 'A',\n",
       " 'DONOR': 'O',\n",
       " 'GOOSE': 'O',\n",
       " 'TRAIT': 'T',\n",
       " 'FLOOD': 'O',\n",
       " 'GLOOM': 'O',\n",
       " 'ATOLL': 'L',\n",
       " 'TIARA': 'A',\n",
       " 'ASSET': 'S',\n",
       " 'GLASS': 'S',\n",
       " 'DELVE': 'E',\n",
       " 'CANNY': 'N',\n",
       " 'FORGO': 'O',\n",
       " 'LARVA': 'A',\n",
       " 'CHEEK': 'E',\n",
       " 'COMMA': 'M',\n",
       " 'NATAL': 'A',\n",
       " 'FEWER': 'E',\n",
       " 'LOWLY': 'L',\n",
       " 'SHALL': 'L',\n",
       " 'SLOSH': 'S',\n",
       " 'RENEW': 'E',\n",
       " 'ALLOW': 'L',\n",
       " 'TEASE': 'E',\n",
       " 'SWEET': 'E',\n",
       " 'AHEAD': 'A',\n",
       " 'RUPEE': 'E',\n",
       " 'SPILL': 'L',\n",
       " 'VIVID': 'I',\n",
       " 'TACIT': 'T',\n",
       " 'SWILL': 'L',\n",
       " 'DODGE': 'D',\n",
       " 'AROMA': 'A',\n",
       " 'CYNIC': 'C',\n",
       " 'ELDER': 'E',\n",
       " 'SKILL': 'L',\n",
       " 'KNOLL': 'L',\n",
       " 'ROBOT': 'O',\n",
       " 'ABBEY': 'B',\n",
       " 'GORGE': 'G',\n",
       " 'BANAL': 'A',\n",
       " 'SIEGE': 'E',\n",
       " 'TRUSS': 'S',\n",
       " 'BOOST': 'O',\n",
       " 'TROLL': 'L',\n",
       " 'FERRY': 'R',\n",
       " 'MASSE': 'S',\n",
       " 'CONIC': 'C',\n",
       " 'CLOCK': 'C',\n",
       " 'SURER': 'R',\n",
       " 'CHILL': 'L',\n",
       " 'PULPY': 'P',\n",
       " 'ALTAR': 'A',\n",
       " 'BRIAR': 'R',\n",
       " 'CLICK': 'C',\n",
       " 'GOUGE': 'G',\n",
       " 'ERODE': 'E',\n",
       " 'BOOZY': 'O',\n",
       " 'ABYSS': 'S',\n",
       " 'STEED': 'E',\n",
       " 'ENEMA': 'E',\n",
       " 'TWEED': 'E',\n",
       " 'HATCH': 'H',\n",
       " 'MOTOR': 'O',\n",
       " 'ABACK': 'A',\n",
       " 'KEBAB': 'B',\n",
       " 'ESSAY': 'S',\n",
       " 'AGATE': 'A',\n",
       " 'SALAD': 'A',\n",
       " 'CIVIC': 'C',\n",
       " 'GAMMA': 'A',\n",
       " 'LOOPY': 'O',\n",
       " 'GREET': 'E',\n",
       " 'START': 'T',\n",
       " 'LAPEL': 'L',\n",
       " 'PARRY': 'R',\n",
       " 'WOOER': 'O',\n",
       " 'TOTEM': 'T',\n",
       " 'BLEED': 'E',\n",
       " 'ERROR': 'R',\n",
       " 'AGREE': 'E',\n",
       " 'OFFAL': 'F',\n",
       " 'CRASS': 'S',\n",
       " 'STOUT': 'T',\n",
       " 'BRIBE': 'B',\n",
       " 'SEEDY': 'E',\n",
       " 'BELLY': 'L',\n",
       " 'BOOBY': 'B',\n",
       " 'LINEN': 'N',\n",
       " 'MAXIM': 'M',\n",
       " 'MIMIC': 'I',\n",
       " 'CLUCK': 'C',\n",
       " 'DIGIT': 'I',\n",
       " 'OUTDO': 'O',\n",
       " 'PAPER': 'P',\n",
       " 'STAFF': 'F',\n",
       " 'FLOSS': 'S',\n",
       " 'BATTY': 'T',\n",
       " 'MARRY': 'R',\n",
       " 'ABASE': 'A',\n",
       " 'COLON': 'O',\n",
       " 'STOOL': 'O',\n",
       " 'ABATE': 'A',\n",
       " 'KARMA': 'A',\n",
       " 'HEATH': 'H',\n",
       " 'SERVE': 'E',\n",
       " 'NAVAL': 'A',\n",
       " 'EVADE': 'E',\n",
       " 'AWAKE': 'A',\n",
       " 'HUMPH': 'H',\n",
       " 'SISSY': 'S',\n",
       " 'HARRY': 'R',\n",
       " 'AGORA': 'A'}"
      ]
     },
     "execution_count": 342,
     "metadata": {},
     "output_type": "execute_result"
    }
   ],
   "source": [
    "dupe_dictionary = {}\n",
    "\n",
    "for word in wordle_double:\n",
    "    for letter in word:\n",
    "        if (word.count(letter) > 1) == True:\n",
    "            dupe_dictionary[word] = letter\n",
    "\n",
    "dupe_dictionary"
   ]
  },
  {
   "cell_type": "code",
   "execution_count": 538,
   "id": "8f0fac00",
   "metadata": {
    "scrolled": true
   },
   "outputs": [
    {
     "data": {
      "text/html": [
       "<div>\n",
       "<style scoped>\n",
       "    .dataframe tbody tr th:only-of-type {\n",
       "        vertical-align: middle;\n",
       "    }\n",
       "\n",
       "    .dataframe tbody tr th {\n",
       "        vertical-align: top;\n",
       "    }\n",
       "\n",
       "    .dataframe thead th {\n",
       "        text-align: right;\n",
       "    }\n",
       "</style>\n",
       "<table border=\"1\" class=\"dataframe\">\n",
       "  <thead>\n",
       "    <tr style=\"text-align: right;\">\n",
       "      <th></th>\n",
       "      <th>Word</th>\n",
       "      <th>Letter</th>\n",
       "    </tr>\n",
       "  </thead>\n",
       "  <tbody>\n",
       "    <tr>\n",
       "      <th>0</th>\n",
       "      <td>LOCAL</td>\n",
       "      <td>L</td>\n",
       "    </tr>\n",
       "    <tr>\n",
       "      <th>1</th>\n",
       "      <td>HEAVE</td>\n",
       "      <td>E</td>\n",
       "    </tr>\n",
       "    <tr>\n",
       "      <th>2</th>\n",
       "      <td>CHEER</td>\n",
       "      <td>E</td>\n",
       "    </tr>\n",
       "    <tr>\n",
       "      <th>3</th>\n",
       "      <td>HUNCH</td>\n",
       "      <td>H</td>\n",
       "    </tr>\n",
       "    <tr>\n",
       "      <th>4</th>\n",
       "      <td>STATE</td>\n",
       "      <td>T</td>\n",
       "    </tr>\n",
       "    <tr>\n",
       "      <th>...</th>\n",
       "      <td>...</td>\n",
       "      <td>...</td>\n",
       "    </tr>\n",
       "    <tr>\n",
       "      <th>291</th>\n",
       "      <td>AWAKE</td>\n",
       "      <td>A</td>\n",
       "    </tr>\n",
       "    <tr>\n",
       "      <th>292</th>\n",
       "      <td>HUMPH</td>\n",
       "      <td>H</td>\n",
       "    </tr>\n",
       "    <tr>\n",
       "      <th>293</th>\n",
       "      <td>SISSY</td>\n",
       "      <td>S</td>\n",
       "    </tr>\n",
       "    <tr>\n",
       "      <th>294</th>\n",
       "      <td>HARRY</td>\n",
       "      <td>R</td>\n",
       "    </tr>\n",
       "    <tr>\n",
       "      <th>295</th>\n",
       "      <td>AGORA</td>\n",
       "      <td>A</td>\n",
       "    </tr>\n",
       "  </tbody>\n",
       "</table>\n",
       "<p>296 rows × 2 columns</p>\n",
       "</div>"
      ],
      "text/plain": [
       "      Word Letter\n",
       "0    LOCAL      L\n",
       "1    HEAVE      E\n",
       "2    CHEER      E\n",
       "3    HUNCH      H\n",
       "4    STATE      T\n",
       "..     ...    ...\n",
       "291  AWAKE      A\n",
       "292  HUMPH      H\n",
       "293  SISSY      S\n",
       "294  HARRY      R\n",
       "295  AGORA      A\n",
       "\n",
       "[296 rows x 2 columns]"
      ]
     },
     "execution_count": 538,
     "metadata": {},
     "output_type": "execute_result"
    }
   ],
   "source": [
    "doubles = pd.DataFrame.from_dict(dupe_dictionary, orient='index', columns = ['Letter'])\n",
    "doubles = doubles.reset_index()\n",
    "doubles = doubles.rename(columns={'index': 'Word', 'Letter': 'Letter'})\n",
    "\n",
    "doubles"
   ]
  },
  {
   "cell_type": "code",
   "execution_count": 543,
   "id": "e486edc0",
   "metadata": {
    "scrolled": true
   },
   "outputs": [
    {
     "data": {
      "text/html": [
       "<div>\n",
       "<style scoped>\n",
       "    .dataframe tbody tr th:only-of-type {\n",
       "        vertical-align: middle;\n",
       "    }\n",
       "\n",
       "    .dataframe tbody tr th {\n",
       "        vertical-align: top;\n",
       "    }\n",
       "\n",
       "    .dataframe thead th {\n",
       "        text-align: right;\n",
       "    }\n",
       "</style>\n",
       "<table border=\"1\" class=\"dataframe\">\n",
       "  <thead>\n",
       "    <tr style=\"text-align: right;\">\n",
       "      <th></th>\n",
       "      <th>Letter</th>\n",
       "      <th>count</th>\n",
       "    </tr>\n",
       "  </thead>\n",
       "  <tbody>\n",
       "    <tr>\n",
       "      <th>0</th>\n",
       "      <td>E</td>\n",
       "      <td>65</td>\n",
       "    </tr>\n",
       "    <tr>\n",
       "      <th>1</th>\n",
       "      <td>A</td>\n",
       "      <td>34</td>\n",
       "    </tr>\n",
       "    <tr>\n",
       "      <th>2</th>\n",
       "      <td>O</td>\n",
       "      <td>31</td>\n",
       "    </tr>\n",
       "    <tr>\n",
       "      <th>3</th>\n",
       "      <td>L</td>\n",
       "      <td>27</td>\n",
       "    </tr>\n",
       "    <tr>\n",
       "      <th>4</th>\n",
       "      <td>T</td>\n",
       "      <td>21</td>\n",
       "    </tr>\n",
       "    <tr>\n",
       "      <th>5</th>\n",
       "      <td>R</td>\n",
       "      <td>18</td>\n",
       "    </tr>\n",
       "    <tr>\n",
       "      <th>6</th>\n",
       "      <td>S</td>\n",
       "      <td>18</td>\n",
       "    </tr>\n",
       "    <tr>\n",
       "      <th>7</th>\n",
       "      <td>C</td>\n",
       "      <td>12</td>\n",
       "    </tr>\n",
       "    <tr>\n",
       "      <th>8</th>\n",
       "      <td>N</td>\n",
       "      <td>9</td>\n",
       "    </tr>\n",
       "    <tr>\n",
       "      <th>9</th>\n",
       "      <td>P</td>\n",
       "      <td>8</td>\n",
       "    </tr>\n",
       "    <tr>\n",
       "      <th>10</th>\n",
       "      <td>G</td>\n",
       "      <td>7</td>\n",
       "    </tr>\n",
       "    <tr>\n",
       "      <th>11</th>\n",
       "      <td>I</td>\n",
       "      <td>7</td>\n",
       "    </tr>\n",
       "    <tr>\n",
       "      <th>12</th>\n",
       "      <td>F</td>\n",
       "      <td>7</td>\n",
       "    </tr>\n",
       "    <tr>\n",
       "      <th>13</th>\n",
       "      <td>H</td>\n",
       "      <td>6</td>\n",
       "    </tr>\n",
       "    <tr>\n",
       "      <th>14</th>\n",
       "      <td>B</td>\n",
       "      <td>6</td>\n",
       "    </tr>\n",
       "    <tr>\n",
       "      <th>15</th>\n",
       "      <td>D</td>\n",
       "      <td>5</td>\n",
       "    </tr>\n",
       "    <tr>\n",
       "      <th>16</th>\n",
       "      <td>K</td>\n",
       "      <td>5</td>\n",
       "    </tr>\n",
       "    <tr>\n",
       "      <th>17</th>\n",
       "      <td>M</td>\n",
       "      <td>4</td>\n",
       "    </tr>\n",
       "    <tr>\n",
       "      <th>18</th>\n",
       "      <td>U</td>\n",
       "      <td>3</td>\n",
       "    </tr>\n",
       "    <tr>\n",
       "      <th>19</th>\n",
       "      <td>Y</td>\n",
       "      <td>2</td>\n",
       "    </tr>\n",
       "    <tr>\n",
       "      <th>20</th>\n",
       "      <td>Z</td>\n",
       "      <td>1</td>\n",
       "    </tr>\n",
       "  </tbody>\n",
       "</table>\n",
       "</div>"
      ],
      "text/plain": [
       "   Letter  count\n",
       "0       E     65\n",
       "1       A     34\n",
       "2       O     31\n",
       "3       L     27\n",
       "4       T     21\n",
       "5       R     18\n",
       "6       S     18\n",
       "7       C     12\n",
       "8       N      9\n",
       "9       P      8\n",
       "10      G      7\n",
       "11      I      7\n",
       "12      F      7\n",
       "13      H      6\n",
       "14      B      6\n",
       "15      D      5\n",
       "16      K      5\n",
       "17      M      4\n",
       "18      U      3\n",
       "19      Y      2\n",
       "20      Z      1"
      ]
     },
     "execution_count": 543,
     "metadata": {},
     "output_type": "execute_result"
    }
   ],
   "source": [
    "double_count = pd.DataFrame(doubles.value_counts('Letter'))\n",
    "double_count.reset_index()"
   ]
  },
  {
   "cell_type": "code",
   "execution_count": 564,
   "id": "6077d679",
   "metadata": {},
   "outputs": [],
   "source": [
    "vowels = ['A', 'E', 'I', 'O', 'U']"
   ]
  },
  {
   "cell_type": "code",
   "execution_count": 582,
   "id": "10f75b69",
   "metadata": {},
   "outputs": [
    {
     "data": {
      "text/plain": [
       "Text(0, 0.5, 'Count out of 296 Words')"
      ]
     },
     "execution_count": 582,
     "metadata": {},
     "output_type": "execute_result"
    },
    {
     "data": {
      "image/png": "[encoded data removed]",
      "text/plain": [
       "<Figure size 1000x500 with 1 Axes>"
      ]
     },
     "metadata": {},
     "output_type": "display_data"
    }
   ],
   "source": [
    "fig, ax = plt.subplots(figsize=(10, 5))\n",
    "sns.scatterplot(x='Letter',y='count',data=double_count, s=100)\n",
    "plt.title(\"Letters Used More Than Once in A Wordle Word\")\n",
    "plt.ylabel(\"Count out of 296 Words\")"
   ]
  },
  {
   "cell_type": "markdown",
   "id": "169d2d2d",
   "metadata": {},
   "source": [
    "### Huh, surprised to see U and Y on the list! Wonder what the words are. And I'm going to guess Z appears in PIZZA, let's see."
   ]
  },
  {
   "cell_type": "code",
   "execution_count": 395,
   "id": "6ec8e3c7",
   "metadata": {
    "scrolled": true
   },
   "outputs": [
    {
     "data": {
      "text/plain": [
       "126    USUAL\n",
       "131    UNDUE\n",
       "146    USURP\n",
       "Name: Word, dtype: object"
      ]
     },
     "execution_count": 395,
     "metadata": {},
     "output_type": "execute_result"
    }
   ],
   "source": [
    "doubles.query(\"Letter == 'U'\")[\"Word\"]"
   ]
  },
  {
   "cell_type": "code",
   "execution_count": 406,
   "id": "18118bed",
   "metadata": {},
   "outputs": [
    {
     "data": {
      "text/plain": [
       "74     SHYLY\n",
       "165    COYLY\n",
       "Name: Word, dtype: object"
      ]
     },
     "execution_count": 406,
     "metadata": {},
     "output_type": "execute_result"
    }
   ],
   "source": [
    "doubles.query(\"Letter == 'Y'\")[\"Word\"]"
   ]
  },
  {
   "cell_type": "code",
   "execution_count": 407,
   "id": "7160d3b7",
   "metadata": {
    "scrolled": true
   },
   "outputs": [
    {
     "data": {
      "text/plain": [
       "79    JAZZY\n",
       "Name: Word, dtype: object"
      ]
     },
     "execution_count": 407,
     "metadata": {},
     "output_type": "execute_result"
    }
   ],
   "source": [
    "doubles.query(\"Letter == 'Z'\")[\"Word\"]"
   ]
  },
  {
   "cell_type": "markdown",
   "id": "4d9dbefe",
   "metadata": {},
   "source": [
    "### Jazzy! That's a fun one!"
   ]
  },
  {
   "cell_type": "code",
   "execution_count": 408,
   "id": "c6d04615",
   "metadata": {
    "scrolled": false
   },
   "outputs": [
    {
     "data": {
      "text/plain": [
       "41     SKUNK\n",
       "90     KAYAK\n",
       "106    KIOSK\n",
       "128    KNOCK\n",
       "161    KHAKI\n",
       "Name: Word, dtype: object"
      ]
     },
     "execution_count": 408,
     "metadata": {},
     "output_type": "execute_result"
    }
   ],
   "source": [
    "doubles.query(\"Letter == 'K'\")[\"Word\"]"
   ]
  },
  {
   "cell_type": "markdown",
   "id": "7ad5261a",
   "metadata": {},
   "source": [
    "### So there are definitely some unexpected double letters being used over at Wordle! While these oddball doubles are less likely than other words, they clearly have been used and it's worth considering when playing your daily Wordle."
   ]
  },
  {
   "cell_type": "markdown",
   "id": "bb34c61c",
   "metadata": {},
   "source": [
    "### Let's look at words that use the same letter 3 times!"
   ]
  },
  {
   "cell_type": "code",
   "execution_count": 277,
   "id": "90d27862",
   "metadata": {},
   "outputs": [
    {
     "data": {
      "text/plain": [
       "{'DADDY', 'ERROR', 'FLUFF', 'MUMMY', 'NANNY', 'SASSY', 'SISSY'}"
      ]
     },
     "execution_count": 277,
     "metadata": {},
     "output_type": "execute_result"
    }
   ],
   "source": [
    "triple_letters = []\n",
    "triple_words = []\n",
    "\n",
    "for word in wordle_double:\n",
    "    for letter in word:\n",
    "        if word.count(letter) > 2:\n",
    "            triple_letters.append(letter)\n",
    "            triple_words.append(word)\n",
    "            \n",
    "        else:\n",
    "            pass\n",
    "\n",
    "set(triple_words)\n",
    "#triple_letters"
   ]
  },
  {
   "cell_type": "code",
   "execution_count": 278,
   "id": "6d54be96",
   "metadata": {
    "scrolled": true
   },
   "outputs": [
    {
     "data": {
      "text/plain": [
       "{'DADDY', 'ERROR', 'FLUFF', 'MUMMY', 'NANNY', 'SASSY', 'SISSY'}"
      ]
     },
     "execution_count": 278,
     "metadata": {},
     "output_type": "execute_result"
    }
   ],
   "source": [
    "triple_letters = []\n",
    "triple_words = []\n",
    "\n",
    "for word in wordle_words:\n",
    "    for letter in word:\n",
    "        if word.count(letter) > 2:\n",
    "            triple_letters.append(letter)\n",
    "            triple_words.append(word)\n",
    "            \n",
    "        else:\n",
    "            pass\n",
    "\n",
    "set(triple_words)\n",
    "#triple_letters"
   ]
  },
  {
   "cell_type": "markdown",
   "id": "9be3b3fe",
   "metadata": {},
   "source": [
    "---\n",
    "## Data Analysis: Letter Pairs\n",
    "\n",
    "- Can we find any interesting information on letter pairs? Thinking “ea” and “ou”, but maybe also “sh” or “th” - maybe consider use of “o” compared to “ou” in terms of percent played."
   ]
  },
  {
   "cell_type": "code",
   "execution_count": 472,
   "id": "38b4c49a",
   "metadata": {},
   "outputs": [],
   "source": [
    "#wordle2"
   ]
  },
  {
   "cell_type": "markdown",
   "id": "0ae200ff",
   "metadata": {},
   "source": [
    "### From above we know O is 346 times. How many times is OU used?"
   ]
  },
  {
   "cell_type": "code",
   "execution_count": 474,
   "id": "a8eb813b",
   "metadata": {},
   "outputs": [],
   "source": [
    "ou_words = wordle2[wordle2[\"Word\"].str.contains(\"OU\")]"
   ]
  },
  {
   "cell_type": "code",
   "execution_count": 477,
   "id": "b217753d",
   "metadata": {},
   "outputs": [],
   "source": [
    "#ou_words"
   ]
  },
  {
   "cell_type": "code",
   "execution_count": 475,
   "id": "834f06c6",
   "metadata": {
    "scrolled": false
   },
   "outputs": [
    {
     "data": {
      "text/plain": [
       "39"
      ]
     },
     "execution_count": 475,
     "metadata": {},
     "output_type": "execute_result"
    }
   ],
   "source": [
    "len(ou_words)"
   ]
  },
  {
   "cell_type": "code",
   "execution_count": 478,
   "id": "68e2614f",
   "metadata": {},
   "outputs": [
    {
     "data": {
      "text/plain": [
       "11.271676300578035"
      ]
     },
     "execution_count": 478,
     "metadata": {},
     "output_type": "execute_result"
    }
   ],
   "source": [
    "39/346*100"
   ]
  },
  {
   "cell_type": "markdown",
   "id": "587e5c68",
   "metadata": {},
   "source": [
    "### So 11.3% of the time O is used, it's used with its partner U as an OU pair."
   ]
  },
  {
   "cell_type": "code",
   "execution_count": 479,
   "id": "223c53e8",
   "metadata": {},
   "outputs": [
    {
     "data": {
      "text/plain": [
       "40"
      ]
     },
     "execution_count": 479,
     "metadata": {},
     "output_type": "execute_result"
    }
   ],
   "source": [
    "len(wordle2[wordle2[\"Word\"].str.contains(\"TH\")])"
   ]
  },
  {
   "cell_type": "markdown",
   "id": "0e2bb12a",
   "metadata": {},
   "source": [
    "How many times is SH used in the Wordle words? How often does a word start with SH? End with SH?"
   ]
  },
  {
   "cell_type": "code",
   "execution_count": 480,
   "id": "2b8e0379",
   "metadata": {},
   "outputs": [
    {
     "data": {
      "text/plain": [
       "32"
      ]
     },
     "execution_count": 480,
     "metadata": {},
     "output_type": "execute_result"
    }
   ],
   "source": [
    "len(wordle2[wordle2[\"Word\"].str.contains(\"SH\")])"
   ]
  },
  {
   "cell_type": "code",
   "execution_count": 481,
   "id": "f9c984c2",
   "metadata": {},
   "outputs": [
    {
     "data": {
      "text/plain": [
       "17"
      ]
     },
     "execution_count": 481,
     "metadata": {},
     "output_type": "execute_result"
    }
   ],
   "source": [
    "len(wordle2[wordle2[\"Word\"].str.startswith(\"SH\")])"
   ]
  },
  {
   "cell_type": "code",
   "execution_count": 482,
   "id": "4e07d324",
   "metadata": {},
   "outputs": [
    {
     "data": {
      "text/plain": [
       "12"
      ]
     },
     "execution_count": 482,
     "metadata": {},
     "output_type": "execute_result"
    }
   ],
   "source": [
    "len(wordle2[wordle2[\"Word\"].str.endswith(\"SH\")])"
   ]
  },
  {
   "cell_type": "markdown",
   "id": "97125575",
   "metadata": {},
   "source": [
    "### Interesting, TH as a pair is used more than SH. Both pairs can be used as the start or the end of a word.\n",
    "---"
   ]
  },
  {
   "cell_type": "markdown",
   "id": "d3d082c1",
   "metadata": {},
   "source": [
    "## I learned a lot about the statistics of Wordle words here, but I don't think I'll apply many of these learnings to my daily Wordle play. I like the meandering path of guesses and luck that lead to victory, and while this analysis was very interesting, using it daily would take away some of the fun. Although I might avoid using J for a little while after this!!"
   ]
  }
 ],
 "metadata": {
  "kernelspec": {
   "display_name": "Python 3 (ipykernel)",
   "language": "python",
   "name": "python3"
  },
  "language_info": {
   "codemirror_mode": {
    "name": "ipython",
    "version": 3
   },
   "file_extension": ".py",
   "mimetype": "text/x-python",
   "name": "python",
   "nbconvert_exporter": "python",
   "pygments_lexer": "ipython3",
   "version": "3.11.5"
  }
 },
 "nbformat": 4,
 "nbformat_minor": 5
}
